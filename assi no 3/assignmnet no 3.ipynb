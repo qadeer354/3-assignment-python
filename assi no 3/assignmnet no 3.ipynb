{
 "cells": [
  {
   "cell_type": "code",
   "execution_count": 3,
   "id": "fcdafca0",
   "metadata": {},
   "outputs": [
    {
     "name": "stdout",
     "output_type": "stream",
     "text": [
      "Twinkle,Twinkle,little,star\n",
      "\n",
      "\tHow i wonder what your are!\n",
      "\n",
      "\t\tUp above the world so high,\n",
      "\n",
      "\t\tlike a diamond in the sky.\n",
      "\n",
      "Twinkle,Twinkle,little,star\n",
      "\n",
      "\tHow i wonder what your are!\n"
     ]
    }
   ],
   "source": [
    "print(\"Twinkle,Twinkle,little,star\\n\\n\\tHow i wonder what your are!\\n\\n\\t\\tUp above the world so high,\\n\\n\\t\\tlike a diamond in the sky.\\n\\nTwinkle,Twinkle,little,star\\n\\n\\tHow i wonder what your are!\");"
   ]
  },
  {
   "cell_type": "code",
   "execution_count": 4,
   "id": "daa545c2",
   "metadata": {},
   "outputs": [
    {
     "name": "stdout",
     "output_type": "stream",
     "text": [
      "python version\n",
      "3.8.8 (default, Apr 13 2021, 15:08:07) [MSC v.1916 32 bit (Intel)]\n",
      "version info\n",
      "sys.version_info(major=3, minor=8, micro=8, releaselevel='final', serial=0)\n"
     ]
    }
   ],
   "source": [
    "import sys\n",
    "print(\"python version\");\n",
    "print(sys.version)\n",
    "print(\"version info\");\n",
    "print(sys.version_info)"
   ]
  },
  {
   "cell_type": "code",
   "execution_count": 5,
   "id": "e9e0f3dd",
   "metadata": {},
   "outputs": [
    {
     "name": "stdout",
     "output_type": "stream",
     "text": [
      "current date and time is:\n",
      "2021-10-23 11:02:45\n"
     ]
    }
   ],
   "source": [
    "import datetime\n",
    "now = datetime.datetime.now()\n",
    "print(\"current date and time is:\");\n",
    "print(now.strftime(\"%Y-%m-%d %H:%M:%S\"))  \n"
   ]
  },
  {
   "cell_type": "code",
   "execution_count": 6,
   "id": "f2d87566",
   "metadata": {},
   "outputs": [
    {
     "name": "stdout",
     "output_type": "stream",
     "text": [
      "Enter the radius of circle:\n",
      "2\n",
      "Area of the circle is:\n",
      "12.566370614359172\n"
     ]
    }
   ],
   "source": [
    "from math import pi\n",
    "r=float(input(\"Enter the radius of circle:\\n\"));\n",
    "print(\"Area of the circle is:\\n\"+ str(pi * r**2))"
   ]
  },
  {
   "cell_type": "code",
   "execution_count": 7,
   "id": "c2ec2054",
   "metadata": {},
   "outputs": [
    {
     "name": "stdout",
     "output_type": "stream",
     "text": [
      "HELLO MUHAMMAD SHAHERYAR\n"
     ]
    }
   ],
   "source": [
    "fname=(\"SHAHERYAR\");\n",
    "lname=(\"MUHAMMAD\");\n",
    "print(\"HELLO \"  +lname+\" \"+fname)"
   ]
  },
  {
   "cell_type": "code",
   "execution_count": 8,
   "id": "7a8b2e41",
   "metadata": {},
   "outputs": [
    {
     "name": "stdout",
     "output_type": "stream",
     "text": [
      "Enter a first number:50\n",
      "Second a second number:50\n",
      "sum: 100\n"
     ]
    }
   ],
   "source": [
    "a=int(input(\"Enter a first number:\"));\n",
    "b=int(input(\"Second a second number:\"));\n",
    "sum=a+b\n",
    "print(\"sum:\",sum)"
   ]
  },
  {
   "cell_type": "code",
   "execution_count": 36,
   "id": "60c6b741",
   "metadata": {},
   "outputs": [
    {
     "name": "stdout",
     "output_type": "stream",
     "text": [
      "Enter you're islamiat marks:\t89\n",
      "Enter you're english marks:\t90\n",
      "Enter you're maths marks:\t95\n",
      "Enter you're urdu marks:\t89\n",
      "Enter you're physics marks:\t90\n",
      "Grade A+  \n",
      "Congratulations you're pass\n",
      "Total marks: 500\n",
      "Obtained_marks: 453\n",
      "Your percent is: 90.60000000000001\n"
     ]
    }
   ],
   "source": [
    "Islamiat= int(input(\"Enter you're islamiat marks:\\t\"));\n",
    "English=int(input(\"Enter you're english marks:\\t\"));\n",
    "Maths=int(input(\"Enter you're maths marks:\\t\"));\n",
    "Urdu=int(input(\"Enter you're urdu marks:\\t\"));\n",
    "physics=int(input(\"Enter you're physics marks:\\t\"));\n",
    "Obtained_marks=Islamiat+English+Maths+Urdu+physics;\n",
    "Total=500;\n",
    "\n",
    "Percent=(Obtained_marks/Total)*100;\n",
    "if Percent < 100 and Percent > 80:\n",
    "     print(\"Grade A+  \\nCongratulations you're pass\");\n",
    "elif Percent < 80 and Percent > 70:\n",
    "     print(\"Grade A   \\nCongratulations you're pass\");\n",
    "elif Percent < 70 and Percent > 60:\n",
    "     print(\"Grade B   \\nCongratulations you're pass\");\n",
    "elif Percent < 60 and Percent > 50:\n",
    "     print(\"Grade C   \\nyou're pass\");\n",
    "elif Percent < 50 and Percent > 40:\n",
    "     print(\"Grade D   \\nyou're pass\");\n",
    "elif Percent < 40 and Percent > 30:\n",
    "     print(\"Grade E   \\nyou're pass\");\n",
    "elif Percent < 30 and Percent > 20:\n",
    "     print(\"Grade F   \\nsorry you're Fail\");\n",
    "\n",
    "print(\"Total marks:\",Total);\n",
    "print(\"Obtained_marks:\",Obtained_marks);\n",
    "print(\"Your percent is:\",Percent);"
   ]
  },
  {
   "cell_type": "code",
   "execution_count": 10,
   "id": "6d969423",
   "metadata": {},
   "outputs": [
    {
     "name": "stdout",
     "output_type": "stream",
     "text": [
      "Enter a number40\n",
      "this is even number\n"
     ]
    }
   ],
   "source": [
    "num=int(input(\"Enter a number\"))\n",
    "mod=num%2\n",
    "if mod>0:\n",
    "    print(\"this is odd number\");\n",
    "else:\n",
    "    print(\"this is even number\");"
   ]
  },
  {
   "cell_type": "code",
   "execution_count": 18,
   "id": "5b74c896",
   "metadata": {},
   "outputs": [
    {
     "name": "stdout",
     "output_type": "stream",
     "text": [
      "number of items in list= 4\n"
     ]
    }
   ],
   "source": [
    "#list \n",
    "listname=[\"hello\",1,True,5.69]\n",
    "print(\"number of items in list=\",len(listname))"
   ]
  },
  {
   "cell_type": "code",
   "execution_count": 22,
   "id": "450a9f9c",
   "metadata": {},
   "outputs": [
    {
     "name": "stdout",
     "output_type": "stream",
     "text": [
      "1\n",
      "1\n",
      "2\n",
      "3\n"
     ]
    }
   ],
   "source": [
    "a= [1, 1, 2, 3, 5, 8, 13, 21, 34, 55, 89]\n",
    "for element in a:\n",
    "    if(int(element) <5):\n",
    "        print(str(element))"
   ]
  }
 ],
 "metadata": {
  "kernelspec": {
   "display_name": "Python 3",
   "language": "python",
   "name": "python3"
  },
  "language_info": {
   "codemirror_mode": {
    "name": "ipython",
    "version": 3
   },
   "file_extension": ".py",
   "mimetype": "text/x-python",
   "name": "python",
   "nbconvert_exporter": "python",
   "pygments_lexer": "ipython3",
   "version": "3.8.8"
  }
 },
 "nbformat": 4,
 "nbformat_minor": 5
}
