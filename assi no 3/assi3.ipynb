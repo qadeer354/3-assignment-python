{
 "cells": [
  {
   "cell_type": "code",
   "execution_count": 2,
   "id": "4b87e9f0",
   "metadata": {},
   "outputs": [
    {
     "name": "stdout",
     "output_type": "stream",
     "text": [
      "sum all the numeric items in a list is: 52\n"
     ]
    }
   ],
   "source": [
    "alist=[2,5,6,9,10,20]\n",
    "numsum=sum(alist)\n",
    "print(\"sum all the numeric items in a list is:\", numsum)\n"
   ]
  },
  {
   "cell_type": "code",
   "execution_count": null,
   "id": "5a9c5ae3",
   "metadata": {},
   "outputs": [],
   "source": []
  }
 ],
 "metadata": {
  "kernelspec": {
   "display_name": "Python 3",
   "language": "python",
   "name": "python3"
  },
  "language_info": {
   "codemirror_mode": {
    "name": "ipython",
    "version": 3
   },
   "file_extension": ".py",
   "mimetype": "text/x-python",
   "name": "python",
   "nbconvert_exporter": "python",
   "pygments_lexer": "ipython3",
   "version": "3.8.8"
  }
 },
 "nbformat": 4,
 "nbformat_minor": 5
}
